{
 "cells": [
  {
   "cell_type": "code",
   "execution_count": 5,
   "id": "65298fe7",
   "metadata": {},
   "outputs": [
    {
     "name": "stdout",
     "output_type": "stream",
     "text": [
      "{'name': 'M.Devi', 'roll_no': '30', 'branch': 'cse', 'clg': 'gvp'}\n",
      "dict_values(['M.Devi', '30', 'cse', 'gvp'])\n",
      "name:M.Devi\n",
      "roll_no:30\n",
      "branch:cse\n",
      "clg:gvp\n"
     ]
    }
   ],
   "source": [
    "details={\"name\":\"M.Devi\",\"roll_no\":\"30\",\"branch\":\"cse\",\"clg\":\"gvp\"}\n",
    "print(details)\n",
    "values=details.values()\n",
    "print(values)\n",
    "for i in details:\n",
    "    print(i+\":\"+details[i])"
   ]
  },
  {
   "cell_type": "code",
   "execution_count": null,
   "id": "b238d0b6",
   "metadata": {},
   "outputs": [],
   "source": []
  }
 ],
 "metadata": {
  "kernelspec": {
   "display_name": "Python 3 (ipykernel)",
   "language": "python",
   "name": "python3"
  },
  "language_info": {
   "codemirror_mode": {
    "name": "ipython",
    "version": 3
   },
   "file_extension": ".py",
   "mimetype": "text/x-python",
   "name": "python",
   "nbconvert_exporter": "python",
   "pygments_lexer": "ipython3",
   "version": "3.9.7"
  }
 },
 "nbformat": 4,
 "nbformat_minor": 5
}
