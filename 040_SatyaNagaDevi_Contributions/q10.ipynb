{
 "cells": [
  {
   "cell_type": "code",
   "execution_count": 1,
   "id": "a21b88bc",
   "metadata": {},
   "outputs": [
    {
     "name": "stdout",
     "output_type": "stream",
     "text": [
      "The Zen of Python, by Tim Peters\n",
      "\n",
      "Beautiful is better than ugly.\n",
      "Explicit is better than implicit.\n",
      "Simple is better than complex.\n",
      "Complex is better than complicated.\n",
      "Flat is better than nested.\n",
      "Sparse is better than dense.\n",
      "Readability counts.\n",
      "Special cases aren't special enough to break the rules.\n",
      "Although practicality beats purity.\n",
      "Errors should never pass silently.\n",
      "Unless explicitly silenced.\n",
      "In the face of ambiguity, refuse the temptation to guess.\n",
      "There should be one-- and preferably only one --obvious way to do it.\n",
      "Although that way may not be obvious at first unless you're Dutch.\n",
      "Now is better than never.\n",
      "Although never is often better than *right* now.\n",
      "If the implementation is hard to explain, it's a bad idea.\n",
      "If the implementation is easy to explain, it may be a good idea.\n",
      "Namespaces are one honking great idea -- let's do more of those!\n"
     ]
    }
   ],
   "source": [
    "#The Zen of Python is a collection of 19 \"guiding principles\" for writing computer programs that influence the design of the Python programming language.[1] Software engineer Tim Peters wrote this set of principles and posted it on the Python mailing list in 1999.[2] Peters's list left open a 20th principle \"for Guido to fill in\", referring to Guido van Rossum, the original author of the Python language. The vacancy for a 20th principle has not been filled.\n",
    "#The principles are listed as follows:\n",
    "#Beautiful is better than ugly.\n",
    "#Explicit is better than implicit.\n",
    "#Simple is better than complex.\n",
    "#Complex is better than complicated.\n",
    "#Flat is better than nested.\n",
    "#Sparse is better than dense.\n",
    "#Readability counts.\n",
    "#Special cases aren't special enough to break the rules.\n",
    "#Although practicality beats purity.\n",
    "#Errors should never pass silently.\n",
    "#Unless explicitly silenced.\n",
    "#In the face of ambiguity, refuse the temptation to guess.\n",
    "#There should be one– and preferably only one –obvious way to do it.[a]\n",
    "#Although that way may not be obvious at first unless you're Dutch.\n",
    "#Now is better than never.\n",
    "#Although never is often better than right now.[b]\n",
    "#If the implementation is hard to explain, it's a bad idea.\n",
    "#If the implementation is easy to explain, it may be a good idea.\n",
    "#Namespaces are one honking great idea – let's do more of those!\n",
    "\n",
    " # To read The Zen of Python, type in:\n",
    "\n",
    "import this"
   ]
  },
  {
   "cell_type": "code",
   "execution_count": null,
   "id": "3aa386cf",
   "metadata": {},
   "outputs": [],
   "source": []
  }
 ],
 "metadata": {
  "kernelspec": {
   "display_name": "Python 3 (ipykernel)",
   "language": "python",
   "name": "python3"
  },
  "language_info": {
   "codemirror_mode": {
    "name": "ipython",
    "version": 3
   },
   "file_extension": ".py",
   "mimetype": "text/x-python",
   "name": "python",
   "nbconvert_exporter": "python",
   "pygments_lexer": "ipython3",
   "version": "3.9.7"
  }
 },
 "nbformat": 4,
 "nbformat_minor": 5
}
