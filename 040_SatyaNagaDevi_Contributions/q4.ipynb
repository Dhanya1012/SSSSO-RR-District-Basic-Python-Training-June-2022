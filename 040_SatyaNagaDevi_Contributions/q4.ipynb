{
 "cells": [
  {
   "cell_type": "code",
   "execution_count": 1,
   "id": "914c317e",
   "metadata": {},
   "outputs": [
    {
     "name": "stdout",
     "output_type": "stream",
     "text": [
      "Enter a tuple :-(0,1,2,3,4,5)\n",
      "Alternate elements\n",
      "(0, 2, 4)\n",
      "(1, 3, 5)\n"
     ]
    }
   ],
   "source": [
    "T = eval(input(\"Enter a tuple :-\"))\n",
    "tup1 = ()\n",
    "tup2 = ()\n",
    "for i in range( len(T)) :\n",
    "    if i % 2 == 0 :\n",
    "        tup1 += ( T[ i ], )\n",
    "    else :\n",
    "        tup2 += ( T[ i ], )\n",
    "print(\"Alternate elements\")\n",
    "print( tup1 )\n",
    "print( tup2 )"
   ]
  },
  {
   "cell_type": "code",
   "execution_count": null,
   "id": "aebb79d4",
   "metadata": {},
   "outputs": [],
   "source": []
  }
 ],
 "metadata": {
  "kernelspec": {
   "display_name": "Python 3 (ipykernel)",
   "language": "python",
   "name": "python3"
  },
  "language_info": {
   "codemirror_mode": {
    "name": "ipython",
    "version": 3
   },
   "file_extension": ".py",
   "mimetype": "text/x-python",
   "name": "python",
   "nbconvert_exporter": "python",
   "pygments_lexer": "ipython3",
   "version": "3.9.7"
  }
 },
 "nbformat": 4,
 "nbformat_minor": 5
}
